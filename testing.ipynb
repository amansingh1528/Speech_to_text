{
  "nbformat": 4,
  "nbformat_minor": 0,
  "metadata": {
    "colab": {
      "provenance": []
    },
    "kernelspec": {
      "name": "python3",
      "display_name": "Python 3"
    },
    "language_info": {
      "name": "python"
    }
  },
  "cells": [
    {
      "cell_type": "code",
      "source": [
        "!pip install SpeechRecognition"
      ],
      "metadata": {
        "colab": {
          "base_uri": "https://localhost:8080/"
        },
        "id": "N5611iTV-MXl",
        "outputId": "f71f208c-159d-4688-c3be-3bdeb50f9e3e"
      },
      "execution_count": 27,
      "outputs": [
        {
          "output_type": "stream",
          "name": "stdout",
          "text": [
            "Requirement already satisfied: SpeechRecognition in /usr/local/lib/python3.10/dist-packages (3.10.0)\n",
            "Requirement already satisfied: requests>=2.26.0 in /usr/local/lib/python3.10/dist-packages (from SpeechRecognition) (2.31.0)\n",
            "Requirement already satisfied: charset-normalizer<4,>=2 in /usr/local/lib/python3.10/dist-packages (from requests>=2.26.0->SpeechRecognition) (3.2.0)\n",
            "Requirement already satisfied: idna<4,>=2.5 in /usr/local/lib/python3.10/dist-packages (from requests>=2.26.0->SpeechRecognition) (3.4)\n",
            "Requirement already satisfied: urllib3<3,>=1.21.1 in /usr/local/lib/python3.10/dist-packages (from requests>=2.26.0->SpeechRecognition) (2.0.4)\n",
            "Requirement already satisfied: certifi>=2017.4.17 in /usr/local/lib/python3.10/dist-packages (from requests>=2.26.0->SpeechRecognition) (2023.7.22)\n"
          ]
        }
      ]
    },
    {
      "cell_type": "code",
      "source": [
        "!pip install moviepy"
      ],
      "metadata": {
        "colab": {
          "base_uri": "https://localhost:8080/"
        },
        "id": "z2WwkmQD-m8B",
        "outputId": "2b529221-04a3-4697-8e5e-4d60389850bc"
      },
      "execution_count": 28,
      "outputs": [
        {
          "output_type": "stream",
          "name": "stdout",
          "text": [
            "Requirement already satisfied: moviepy in /usr/local/lib/python3.10/dist-packages (1.0.3)\n",
            "Requirement already satisfied: decorator<5.0,>=4.0.2 in /usr/local/lib/python3.10/dist-packages (from moviepy) (4.4.2)\n",
            "Requirement already satisfied: tqdm<5.0,>=4.11.2 in /usr/local/lib/python3.10/dist-packages (from moviepy) (4.66.1)\n",
            "Requirement already satisfied: requests<3.0,>=2.8.1 in /usr/local/lib/python3.10/dist-packages (from moviepy) (2.31.0)\n",
            "Requirement already satisfied: proglog<=1.0.0 in /usr/local/lib/python3.10/dist-packages (from moviepy) (0.1.10)\n",
            "Requirement already satisfied: numpy>=1.17.3 in /usr/local/lib/python3.10/dist-packages (from moviepy) (1.23.5)\n",
            "Requirement already satisfied: imageio<3.0,>=2.5 in /usr/local/lib/python3.10/dist-packages (from moviepy) (2.31.1)\n",
            "Requirement already satisfied: imageio-ffmpeg>=0.2.0 in /usr/local/lib/python3.10/dist-packages (from moviepy) (0.4.8)\n",
            "Requirement already satisfied: pillow>=8.3.2 in /usr/local/lib/python3.10/dist-packages (from imageio<3.0,>=2.5->moviepy) (9.4.0)\n",
            "Requirement already satisfied: charset-normalizer<4,>=2 in /usr/local/lib/python3.10/dist-packages (from requests<3.0,>=2.8.1->moviepy) (3.2.0)\n",
            "Requirement already satisfied: idna<4,>=2.5 in /usr/local/lib/python3.10/dist-packages (from requests<3.0,>=2.8.1->moviepy) (3.4)\n",
            "Requirement already satisfied: urllib3<3,>=1.21.1 in /usr/local/lib/python3.10/dist-packages (from requests<3.0,>=2.8.1->moviepy) (2.0.4)\n",
            "Requirement already satisfied: certifi>=2017.4.17 in /usr/local/lib/python3.10/dist-packages (from requests<3.0,>=2.8.1->moviepy) (2023.7.22)\n"
          ]
        }
      ]
    },
    {
      "cell_type": "code",
      "source": [
        "!pip install --upgrade moviepy"
      ],
      "metadata": {
        "colab": {
          "base_uri": "https://localhost:8080/"
        },
        "id": "TPO_0aE4Bcv-",
        "outputId": "68c09e12-5930-4329-adb9-a28e25d929fd"
      },
      "execution_count": 10,
      "outputs": [
        {
          "output_type": "stream",
          "name": "stdout",
          "text": [
            "Requirement already satisfied: moviepy in /usr/local/lib/python3.10/dist-packages (1.0.3)\n",
            "Requirement already satisfied: decorator<5.0,>=4.0.2 in /usr/local/lib/python3.10/dist-packages (from moviepy) (4.4.2)\n",
            "Requirement already satisfied: tqdm<5.0,>=4.11.2 in /usr/local/lib/python3.10/dist-packages (from moviepy) (4.66.1)\n",
            "Requirement already satisfied: requests<3.0,>=2.8.1 in /usr/local/lib/python3.10/dist-packages (from moviepy) (2.31.0)\n",
            "Requirement already satisfied: proglog<=1.0.0 in /usr/local/lib/python3.10/dist-packages (from moviepy) (0.1.10)\n",
            "Requirement already satisfied: numpy>=1.17.3 in /usr/local/lib/python3.10/dist-packages (from moviepy) (1.23.5)\n",
            "Requirement already satisfied: imageio<3.0,>=2.5 in /usr/local/lib/python3.10/dist-packages (from moviepy) (2.31.1)\n",
            "Requirement already satisfied: imageio-ffmpeg>=0.2.0 in /usr/local/lib/python3.10/dist-packages (from moviepy) (0.4.8)\n",
            "Requirement already satisfied: pillow>=8.3.2 in /usr/local/lib/python3.10/dist-packages (from imageio<3.0,>=2.5->moviepy) (9.4.0)\n",
            "Requirement already satisfied: charset-normalizer<4,>=2 in /usr/local/lib/python3.10/dist-packages (from requests<3.0,>=2.8.1->moviepy) (3.2.0)\n",
            "Requirement already satisfied: idna<4,>=2.5 in /usr/local/lib/python3.10/dist-packages (from requests<3.0,>=2.8.1->moviepy) (3.4)\n",
            "Requirement already satisfied: urllib3<3,>=1.21.1 in /usr/local/lib/python3.10/dist-packages (from requests<3.0,>=2.8.1->moviepy) (2.0.4)\n",
            "Requirement already satisfied: certifi>=2017.4.17 in /usr/local/lib/python3.10/dist-packages (from requests<3.0,>=2.8.1->moviepy) (2023.7.22)\n"
          ]
        }
      ]
    },
    {
      "cell_type": "code",
      "source": [
        "import speech_recognition as sr\n",
        "import moviepy.editor as mp\n",
        "from moviepy.video.io.ffmpeg_tools import ffmpeg_extract_subclip\n",
        "import os\n",
        "\n",
        "os.makedirs(\"chunks\", exist_ok=True)\n",
        "os.makedirs(\"converted\", exist_ok=True)\n",
        "\n",
        "\n",
        "num_seconds_video= 4*60\n",
        "print(\"The video is {} seconds\".format(num_seconds_video))\n",
        "l=list(range(0,num_seconds_video+1,60))\n",
        "\n",
        "diz={}\n",
        "for i in range(len(l)-1):\n",
        "    ffmpeg_extract_subclip(\"/content/drive/MyDrive/videoplayback.mp4\", l[i]-2*(l[i]!=0), l[i+1], targetname=\"chunks/cut{}.mp4\".format(i+1))\n",
        "    clip = mp.VideoFileClip(r\"chunks/cut{}.mp4\".format(i+1))\n",
        "    clip.audio.write_audiofile(r\"converted/converted{}.wav\".format(i+1))\n",
        "    r = sr.Recognizer()\n",
        "    audio = sr.AudioFile(\"converted/converted{}.wav\".format(i+1))\n",
        "    with audio as source:\n",
        "      r.adjust_for_ambient_noise(source)\n",
        "      audio_file = r.record(source)\n",
        "    result = r.recognize_google(audio_file)\n",
        "    diz['chunk{}'.format(i+1)]=result"
      ],
      "metadata": {
        "colab": {
          "base_uri": "https://localhost:8080/"
        },
        "id": "JMP_tOpTHbz6",
        "outputId": "a1b9aa77-a20d-43ba-bdef-cb41f6fc43cc"
      },
      "execution_count": 32,
      "outputs": [
        {
          "output_type": "stream",
          "name": "stderr",
          "text": [
            "chunk:   2%|▏         | 27/1325 [00:46<37:15,  1.72s/it, now=None]"
          ]
        },
        {
          "output_type": "stream",
          "name": "stdout",
          "text": [
            "The video is 240 seconds\n",
            "Moviepy - Running:\n",
            ">>> \"+ \" \".join(cmd)\n",
            "Moviepy - Command successful\n",
            "MoviePy - Writing audio in converted/converted1.wav\n"
          ]
        },
        {
          "output_type": "stream",
          "name": "stderr",
          "text": [
            "\n",
            "chunk:   0%|          | 0/1325 [00:00<?, ?it/s, now=None]\u001b[A\n",
            "chunk:  12%|█▏        | 156/1325 [00:00<00:00, 1554.31it/s, now=None]\u001b[A\n",
            "chunk:  24%|██▎       | 312/1325 [00:00<00:00, 1542.25it/s, now=None]\u001b[A\n",
            "chunk:  35%|███▌      | 467/1325 [00:00<00:00, 1500.26it/s, now=None]\u001b[A\n",
            "chunk:  47%|████▋     | 619/1325 [00:00<00:00, 1505.69it/s, now=None]\u001b[A\n",
            "chunk:  58%|█████▊    | 770/1325 [00:00<00:00, 1501.32it/s, now=None]\u001b[A\n",
            "chunk:  70%|██████▉   | 921/1325 [00:00<00:00, 1444.52it/s, now=None]\u001b[A\n",
            "chunk:  81%|████████  | 1071/1325 [00:00<00:00, 1459.88it/s, now=None]\u001b[A\n",
            "chunk:  92%|█████████▏| 1224/1325 [00:00<00:00, 1481.20it/s, now=None]\u001b[A\n",
            "chunk:   2%|▏         | 27/1325 [00:47<38:00,  1.76s/it, now=None]"
          ]
        },
        {
          "output_type": "stream",
          "name": "stdout",
          "text": [
            "MoviePy - Done.\n"
          ]
        },
        {
          "output_type": "stream",
          "name": "stderr",
          "text": [
            "chunk:   2%|▏         | 27/1325 [01:22<1:06:15,  3.06s/it, now=None]"
          ]
        },
        {
          "output_type": "stream",
          "name": "stdout",
          "text": [
            "Moviepy - Running:\n",
            ">>> \"+ \" \".join(cmd)\n",
            "Moviepy - Command successful\n"
          ]
        },
        {
          "output_type": "stream",
          "name": "stderr",
          "text": [
            "chunk:   2%|▏         | 27/1325 [01:22<1:06:28,  3.07s/it, now=None]"
          ]
        },
        {
          "output_type": "stream",
          "name": "stdout",
          "text": [
            "MoviePy - Writing audio in converted/converted2.wav\n"
          ]
        },
        {
          "output_type": "stream",
          "name": "stderr",
          "text": [
            "\n",
            "chunk:   0%|          | 0/1471 [00:00<?, ?it/s, now=None]\u001b[A\n",
            "chunk:   9%|▉         | 132/1471 [00:00<00:01, 1295.92it/s, now=None]\u001b[A\n",
            "chunk:  18%|█▊        | 262/1471 [00:00<00:00, 1264.83it/s, now=None]\u001b[A\n",
            "chunk:  28%|██▊       | 405/1471 [00:00<00:00, 1338.13it/s, now=None]\u001b[A\n",
            "chunk:  37%|███▋      | 545/1471 [00:00<00:00, 1360.66it/s, now=None]\u001b[A\n",
            "chunk:  46%|████▋     | 682/1471 [00:00<00:00, 1295.90it/s, now=None]\u001b[A\n",
            "chunk:  55%|█████▌    | 815/1471 [00:00<00:00, 1305.16it/s, now=None]\u001b[A\n",
            "chunk:  65%|██████▌   | 957/1471 [00:00<00:00, 1340.85it/s, now=None]\u001b[A\n",
            "chunk:  76%|███████▋  | 1122/1471 [00:00<00:00, 1423.79it/s, now=None]\u001b[A\n",
            "chunk:  86%|████████▌ | 1268/1471 [00:00<00:00, 1433.13it/s, now=None]\u001b[A\n",
            "chunk:  97%|█████████▋| 1423/1471 [00:01<00:00, 1468.55it/s, now=None]\u001b[A\n",
            "chunk:   2%|▏         | 27/1325 [01:24<1:07:21,  3.11s/it, now=None]"
          ]
        },
        {
          "output_type": "stream",
          "name": "stdout",
          "text": [
            "MoviePy - Done.\n"
          ]
        },
        {
          "output_type": "stream",
          "name": "stderr",
          "text": [
            "chunk:   2%|▏         | 27/1325 [01:49<1:27:20,  4.04s/it, now=None]"
          ]
        },
        {
          "output_type": "stream",
          "name": "stdout",
          "text": [
            "Moviepy - Running:\n",
            ">>> \"+ \" \".join(cmd)\n",
            "Moviepy - Command successful\n",
            "MoviePy - Writing audio in converted/converted3.wav\n"
          ]
        },
        {
          "output_type": "stream",
          "name": "stderr",
          "text": [
            "\n",
            "chunk:   0%|          | 0/1381 [00:00<?, ?it/s, now=None]\u001b[A\n",
            "chunk:  14%|█▍        | 199/1381 [00:00<00:00, 1989.80it/s, now=None]\u001b[A\n",
            "chunk:  29%|██▉       | 398/1381 [00:00<00:00, 1842.51it/s, now=None]\u001b[A\n",
            "chunk:  42%|████▏     | 585/1381 [00:00<00:00, 1852.74it/s, now=None]\u001b[A\n",
            "chunk:  56%|█████▌    | 771/1381 [00:00<00:00, 1804.59it/s, now=None]\u001b[A\n",
            "chunk:  70%|███████   | 969/1381 [00:00<00:00, 1844.07it/s, now=None]\u001b[A\n",
            "chunk:  85%|████████▍ | 1173/1381 [00:00<00:00, 1874.71it/s, now=None]\u001b[A\n",
            "chunk:   2%|▏         | 27/1325 [01:49<1:27:56,  4.07s/it, now=None]"
          ]
        },
        {
          "output_type": "stream",
          "name": "stdout",
          "text": [
            "MoviePy - Done.\n"
          ]
        },
        {
          "output_type": "stream",
          "name": "stderr",
          "text": [
            "chunk:   2%|▏         | 27/1325 [02:22<1:54:24,  5.29s/it, now=None]"
          ]
        },
        {
          "output_type": "stream",
          "name": "stdout",
          "text": [
            "Moviepy - Running:\n",
            ">>> \"+ \" \".join(cmd)\n",
            "Moviepy - Command successful\n",
            "MoviePy - Writing audio in converted/converted4.wav\n"
          ]
        },
        {
          "output_type": "stream",
          "name": "stderr",
          "text": [
            "\n",
            "chunk:   0%|          | 0/228 [00:00<?, ?it/s, now=None]\u001b[A\n",
            "chunk:  88%|████████▊ | 201/228 [00:00<00:00, 2005.41it/s, now=None]\u001b[A\n",
            "chunk:   2%|▏         | 27/1325 [02:22<1:54:32,  5.29s/it, now=None]"
          ]
        },
        {
          "output_type": "stream",
          "name": "stdout",
          "text": [
            "MoviePy - Done.\n"
          ]
        }
      ]
    },
    {
      "cell_type": "code",
      "source": [
        "l_chunks=[diz['chunk{}'.format(i+1)] for i in range(len(diz))]\n",
        "text='\\n'.join(l_chunks)\n",
        "\n",
        "with open('recognized1.txt',mode ='w') as file:\n",
        "   file.write(\"Recognized Speech:\")\n",
        "   file.write(\"\\n\")\n",
        "   file.write(text)\n",
        "   print(\"Finally ready!\")"
      ],
      "metadata": {
        "colab": {
          "base_uri": "https://localhost:8080/"
        },
        "id": "UOVMfBRD--0L",
        "outputId": "d3866341-799f-464c-cf44-e428fb78260c"
      },
      "execution_count": 33,
      "outputs": [
        {
          "output_type": "stream",
          "name": "stdout",
          "text": [
            "Finally ready!\n"
          ]
        }
      ]
    }
  ]
}